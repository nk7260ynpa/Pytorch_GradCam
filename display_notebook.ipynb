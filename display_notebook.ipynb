{
 "cells": [
  {
   "cell_type": "code",
   "execution_count": null,
   "id": "c4572cc2-7137-4877-b890-248e44633fe9",
   "metadata": {},
   "outputs": [],
   "source": [
    "import os \n",
    "import numpy as np\n",
    "import matplotlib.pyplot as plt\n",
    "import torch\n",
    "import torch.nn as nn\n",
    "import torchvision as trv\n",
    "from GradCam_model import GradResnet50\n",
    "from PIL import Image\n",
    "import cv2"
   ]
  },
  {
   "cell_type": "code",
   "execution_count": null,
   "id": "29fe16b2-54a5-4639-b927-3573346d001e",
   "metadata": {},
   "outputs": [],
   "source": [
    "img_path = \"data/n02066245_14642.jpeg\""
   ]
  },
  {
   "cell_type": "code",
   "execution_count": null,
   "id": "b79be7a9-aaaf-49f6-90d8-72eb3330d675",
   "metadata": {},
   "outputs": [],
   "source": [
    "input_image = Image.open(img_path)"
   ]
  },
  {
   "cell_type": "code",
   "execution_count": null,
   "id": "9f753538-5281-4a25-85cf-5d9d954fef88",
   "metadata": {},
   "outputs": [],
   "source": [
    "grad_model = GradResnet50()"
   ]
  },
  {
   "cell_type": "code",
   "execution_count": null,
   "id": "329afabf-3955-440f-9763-ead7ca3b2e57",
   "metadata": {},
   "outputs": [],
   "source": [
    "grad_model.eval()\n",
    "print()\n",
    "#pred = grad_model(input_image)"
   ]
  },
  {
   "cell_type": "code",
   "execution_count": null,
   "id": "999da648-0b4e-4d28-b5aa-f62f26dc4e12",
   "metadata": {},
   "outputs": [],
   "source": [
    "heatmap = grad_model.Gradheatmap(input_image)"
   ]
  },
  {
   "cell_type": "code",
   "execution_count": null,
   "id": "971d2bf2-a8ef-4810-9f1e-20685797f55a",
   "metadata": {},
   "outputs": [],
   "source": [
    "plt.matshow(heatmap)"
   ]
  },
  {
   "cell_type": "code",
   "execution_count": null,
   "id": "5dcd5572-c95c-472f-9803-df7a2832ff8a",
   "metadata": {},
   "outputs": [],
   "source": [
    "img = cv2.imread(img_path)"
   ]
  },
  {
   "cell_type": "code",
   "execution_count": null,
   "id": "544dcec9-80a5-4262-979f-15680bd255f4",
   "metadata": {},
   "outputs": [],
   "source": [
    "heatmap = np.uint8(255 * heatmap)\n",
    "heatmap = cv2.resize(heatmap, (img.shape[1], img.shape[0]))"
   ]
  },
  {
   "cell_type": "code",
   "execution_count": null,
   "id": "b799939e-a36a-4c6a-bf68-271da150bbc6",
   "metadata": {},
   "outputs": [],
   "source": [
    "heatmap.shape"
   ]
  },
  {
   "cell_type": "code",
   "execution_count": null,
   "id": "8122c235-d421-4dd7-9b90-267691c61c03",
   "metadata": {},
   "outputs": [],
   "source": [
    "#heatmap = np.uint8(255 * heatmap)\n",
    "heatmap = cv2.applyColorMap(heatmap, cv2.COLORMAP_JET)\n",
    "superimposed_img = heatmap * 0.4 + img"
   ]
  },
  {
   "cell_type": "code",
   "execution_count": null,
   "id": "148f6548-6db9-415e-a4c4-132bdc49c755",
   "metadata": {},
   "outputs": [],
   "source": [
    "aaa = (superimposed_img / np.max(superimposed_img)) * 255\n",
    "\n",
    "aaa = np.uint8(np.clip(aaa, 0, 255))\n",
    "\n",
    "aaa = cv2.cvtColor(aaa, cv2.COLOR_BGR2RGB)"
   ]
  },
  {
   "cell_type": "code",
   "execution_count": null,
   "id": "370dcbc5-4ce7-46cb-ad1c-17a85a920e16",
   "metadata": {},
   "outputs": [],
   "source": [
    "plt.figure(dpi=200)\n",
    "plt.imshow(aaa)"
   ]
  },
  {
   "cell_type": "code",
   "execution_count": null,
   "id": "da6540e1-8c5f-4f2e-83bb-7e934b6ae4da",
   "metadata": {},
   "outputs": [],
   "source": []
  },
  {
   "cell_type": "code",
   "execution_count": null,
   "id": "081d6715-2b95-428d-b164-12cf6d118dc3",
   "metadata": {},
   "outputs": [],
   "source": []
  },
  {
   "cell_type": "code",
   "execution_count": null,
   "id": "801b86c7-1bc6-4b22-84c7-741a8e7f58d0",
   "metadata": {},
   "outputs": [],
   "source": []
  }
 ],
 "metadata": {
  "kernelspec": {
   "display_name": "Python 3 (ipykernel)",
   "language": "python",
   "name": "python3"
  },
  "language_info": {
   "codemirror_mode": {
    "name": "ipython",
    "version": 3
   },
   "file_extension": ".py",
   "mimetype": "text/x-python",
   "name": "python",
   "nbconvert_exporter": "python",
   "pygments_lexer": "ipython3",
   "version": "3.8.13"
  },
  "widgets": {
   "application/vnd.jupyter.widget-state+json": {
    "state": {},
    "version_major": 2,
    "version_minor": 0
   }
  }
 },
 "nbformat": 4,
 "nbformat_minor": 5
}
